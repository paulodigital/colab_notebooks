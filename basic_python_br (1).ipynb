{
  "nbformat": 4,
  "nbformat_minor": 0,
  "metadata": {
    "colab": {
      "provenance": []
    },
    "kernelspec": {
      "name": "python3",
      "display_name": "Python 3"
    },
    "language_info": {
      "name": "python"
    }
  },
  "cells": [
    {
      "cell_type": "markdown",
      "source": [
        "# 1. Bases da Linguagem"
      ],
      "metadata": {
        "id": "n0yPArSr8T2t"
      }
    },
    {
      "cell_type": "markdown",
      "source": [
        "### Bases e sintaxis"
      ],
      "metadata": {
        "id": "7cGlttjgDne_"
      }
    },
    {
      "cell_type": "markdown",
      "source": [
        "| Conceito | Código de Exemplo | Explicação |\n",
        "| :--- | :--- | :--- |\n",
        "| **Primeiro Programa** | `print(\"Olá, turma!\")` | Exibe uma mensagem no console. |\n",
        "| **Comentários** | `# Isto é um comentário, Python ignora` | Útil para documentar o código. |\n",
        "| **Sintaxe e Indentação** | `if 5 > 2:`<br><br>`  print(\"Cinco é maior que dois\")` | A **indentação (4 espaços)** é obrigatória. Define blocos de código. |"
      ],
      "metadata": {
        "id": "-2nzKwYf8-H1"
      }
    },
    {
      "cell_type": "markdown",
      "source": [
        "### Variáveis e Tipos de Dados"
      ],
      "metadata": {
        "id": "fT1GvCp7-xhw"
      }
    },
    {
      "cell_type": "markdown",
      "source": [
        "| Tipo de Dado | Conceito | Código de Exemplo |\n",
        "| :--- | :--- | :--- |\n",
        "| **Inteiro (`int`)** | Números sem casas decimais. | `idade = 30` |\n",
        "| **Flutuante (`float`)** | Números com casas decimais. | `preco = 19.99` |\n",
        "| **String (`str`)** | Texto. Usa aspas. | `nome = \"Ana\"` |\n",
        "| **Booleano (`bool`)** | Valores lógicos: `True` (Verdadeiro) ou `False` (Falso). | `e_estudante = True` |\n",
        "| **Inspeção** | Vê o tipo de dado. | `print(type(idade))` |"
      ],
      "metadata": {
        "id": "RWETNqQu-XQM"
      }
    },
    {
      "cell_type": "markdown",
      "source": [
        "### Operadores Básicos"
      ],
      "metadata": {
        "id": "pWseYWWt_xVk"
      }
    },
    {
      "cell_type": "markdown",
      "source": [
        "| Conceito | Operador | Código de Exemplo | Resultado |\n",
        "| :--- | :--- | :--- | :--- |\n",
        "| **Aritméticos** | Soma, Subt, Mult, Div | `print(10 + 5)`<br><br>`print(10 / 3)` | `15`<br><br>`3.333...` |\n",
        "| **Especiais** | Potência, Divisão Inteira | `print(2 ** 3)`<br><br>`print(10 // 3)` | `8`<br><br>`3` |\n",
        "| **Comparação** | Igualdade, Maior que | `print(idade == 30)`<br><br>`print(preco > 20)` | `True`<br><br>`False` |\n",
        "| **Lógicos** | E (AND) | `print(True and False)` | `False` |\n",
        "| **Lógicos** | OU (OR) | `print(True or False)` | `True` |"
      ],
      "metadata": {
        "id": "X0Ggv6up_FJB"
      }
    },
    {
      "cell_type": "markdown",
      "source": [
        "### Listas (A Coleção Mais Comum)"
      ],
      "metadata": {
        "id": "3Pl5pPAwBe3F"
      }
    },
    {
      "cell_type": "markdown",
      "source": [
        "| Conceito | Código de Exemplo | Explicação |\n",
        "| :--- | :--- | :--- |\n",
        "| **Criação** | `frutas = [\"maçã\", \"banana\", \"kiwi\"]` | Coleção ordenada e **mutável** (pode ser alterada). |\n",
        "| **Acesso** | `print(frutas[1])` | Acesso por índice (começa em **0**). |\n",
        "| **Métodos** | `frutas.append(\"laranja\")`<br><br>`frutas.pop(0)` | Adicionar ao final.<br><br>Remover por índice. |\n",
        "| **Tamanho** | `print(len(frutas))` | Obter a quantidade de elementos. |"
      ],
      "metadata": {
        "id": "i5EaIuogBTLK"
      }
    },
    {
      "cell_type": "markdown",
      "source": [
        "### Tuplas e Dicionários"
      ],
      "metadata": {
        "id": "yeaulNSdAlt9"
      }
    },
    {
      "cell_type": "markdown",
      "source": [
        "| Coleção | Conceito | Código de Exemplo |\n",
        "| :--- | :--- | :--- |\n",
        "| **Tupla** | Coleção ordenada e **imutável**. | `coordenadas = (10, 25)`<br><br>`print(coordenadas[0])` |\n",
        "| **Dicionário** | Pares de **chave-valor**. Não ordenada e mutável. | `pessoa = {`<br><br>`  \"nome\": \"Leo\",`<br><br>`  \"idade\": 25`<br><br>`}` |\n",
        "| **Acesso (Dicionário)** | `print(pessoa[\"nome\"])`<br><br>`pessoa[\"cidade\"] = \"Madrid\"` | Acesso usando a **chave**.<br>Adicionar ou modificar um par. |"
      ],
      "metadata": {
        "id": "jmIDKjEWAeAN"
      }
    },
    {
      "cell_type": "markdown",
      "source": [
        "# 2. Controle de Fluxo: Condicionais e Laços de Repetição"
      ],
      "metadata": {
        "id": "6FFcLrifByRZ"
      }
    },
    {
      "cell_type": "markdown",
      "source": [
        "### Sentenças Condicionais (Decisões)"
      ],
      "metadata": {
        "id": "f_dEtgHKCH9Z"
      }
    },
    {
      "cell_type": "markdown",
      "source": [
        "| Estrutura | Código de Exemplo | Explicação |\n",
        "| :--- | :--- | :--- |\n",
        "| **`if` e `else`** | `temperatura = 35`<br><br>`if temperatura > 30:`<br><br>`  print(\"Está quente\")`<br><br>`else:`<br><br>`  print(\"Temperatura agradável\")` | Executa um bloco se a condição for `True`, caso contrário, o outro. |\n",
        "| **`elif`** | `hora = 14`<br><br>`if hora < 12:`<br><br>`  print(\"Manhã\")`<br><br>`elif hora < 18:`<br><br>`  print(\"Tarde\")`<br><br>`else:`<br><br>`  print(\"Noite\")` | Avalia múltiplas condições sequencialmente. |"
      ],
      "metadata": {
        "id": "_Ol4yyQQCOSY"
      }
    },
    {
      "cell_type": "markdown",
      "source": [
        "### Laço for (Iteração Definida)"
      ],
      "metadata": {
        "id": "1tLhyGZVC4AQ"
      }
    },
    {
      "cell_type": "markdown",
      "source": [
        "| Conceito | Código de Exemplo | Explicação |\n",
        "| :--- | :--- | :--- |\n",
        "| **Iterar Lista** | `cores = [\"vermelho\", \"azul\"]`<br><br>`for cor in cores:`<br><br>`  print(f\"Eu gosto da cor {cor}\")` | Percorre cada elemento da coleção. |\n",
        "| **Iterar Intervalo** | `for i in range(3):`<br><br>`  print(i)` | Imprime `0`, `1`, `2`. Útil para repetir um número fixo de vezes. |"
      ],
      "metadata": {
        "id": "HePFqPglEB5f"
      }
    },
    {
      "cell_type": "markdown",
      "source": [
        "### Laço while (Iteração Condicional)"
      ],
      "metadata": {
        "id": "Aq66HQAZF-ac"
      }
    },
    {
      "cell_type": "markdown",
      "source": [
        "| Conceito | Código de Exemplo | Explicação |\n",
        "| :--- | :--- | :--- |\n",
        "| **Laço Básico** | `contador = 0`<br><br>`while contador < 3:`<br><br>`  print(contador)`<br><br>`  contador = contador + 1` | Repete o código enquanto a condição (`contador < 3`) for `True`. |"
      ],
      "metadata": {
        "id": "pTV5RoEmF8ug"
      }
    },
    {
      "cell_type": "markdown",
      "source": [
        "### Controle de Laços"
      ],
      "metadata": {
        "id": "H8Qd0JoH2kPg"
      }
    },
    {
      "cell_type": "markdown",
      "source": [
        "| Sentença | Código de Exemplo | Explicação |\n",
        "| :--- | :--- | :--- |\n",
        "| **`break`** | `for i in range(5):`<br><br>`  if i == 3: break`<br><br>`  print(i)` | **Interrompe** a execução do laço completamente. Imprime `0, 1, 2`. |\n",
        "| **`continue`** | `for i in range(5):`<br><br>`  if i == 3: continue`<br><br>`  print(i)` | **Pula** a iteração atual e passa para a próxima. Imprime `0, 1, 2, 4`. |"
      ],
      "metadata": {
        "id": "uLr3P7it2pGM"
      }
    },
    {
      "cell_type": "markdown",
      "source": [
        "# 3. Funções (Modularidade)"
      ],
      "metadata": {
        "id": "96nzT106Gdlb"
      }
    },
    {
      "cell_type": "markdown",
      "source": [
        "| Conceito | Código de Exemplo | Explicação |\n",
        "| :--- | :--- | :--- |\n",
        "| **Definição** | `def cumprimentar():`<br><br>`  print(\"Olá!\")`<br><br>`cumprimentar()` | Define a função. O código é executado somente ao **chamá-la** (`cumprimentar()`). |\n",
        "| **Com Parâmetros** | `def somar(a, b):`<br><br>`  resultado = a + b`<br><br>`  print(resultado)`<br><br>`somar(5, 3)` | A função recebe `a` e `b` como **argumentos**. |\n",
        "| **Com Retorno** | `def multiplicar(x, y):`<br><br>`  return x * y`<br><br>`valor = multiplicar(4, 2)`<br><br>`print(valor)` | A palavra-chave **`return`** devolve um valor que pode ser usado fora da função. |\n",
        "| **Parâmetros Padrão** | `def potencia(base, exp=2):`<br><br>`  return base ** exp`<br><br>`print(potencia(3))` | Se `exp` não for fornecido, usa o valor padrão (`2`). |"
      ],
      "metadata": {
        "id": "F0LXSt0DGctL"
      }
    }
  ]
}